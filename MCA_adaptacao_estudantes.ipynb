{
 "cells": [
  {
   "cell_type": "markdown",
   "metadata": {},
   "source": [
    "# Análise de Correspondência Múltipla (MCA) - Adaptação Estudantes"
   ]
  },
  {
   "cell_type": "markdown",
   "metadata": {},
   "source": [
    "## Contexto"
   ]
  },
  {
   "cell_type": "markdown",
   "metadata": {},
   "source": [
    "Faremos um estudo exploratório por meio da técnica não supervisionada MCA sobre a adaptação de estudantes ao ensino online. \n",
    "\n",
    "**Definição de MCA:** possui o objetivo de analisar a associação entre mais de duas variáveis categóricas. Somente as variáveis que apresentam associação estatisticamente significativa participam da MCA.\n",
    "\n",
    "Realizamos a leitura de um artigo e extraímos os dados de uma plataforma (Kaggle). Embora o estudo original tenha sido feito em um contexto supervisionado, nosso objetivo é observar como as categorias das variáveis categóricas se associam. Abaixo, escrevemos um resumo desse artigo que pode ser encontrado no Google Acadêmico.\n",
    "\n",
    "* **Suzan et al.(2021) Students' Adaptability Level Prediction in Online Education using Machine Learning Approaches - DOI: 10.1109/ICCCNT51525.2021.9579741**\n",
    "\n",
    "O artigo \"Students' Adaptability Level Prediction in Online Education using Machine Learning Approaches\" aborda a previsão do nível de adaptabilidade dos estudantes em ambientes de educação online utilizando abordagens de aprendizado de máquina. Com o crescimento da educação à distância, tornou-se essencial compreender e prever como os estudantes se adaptam a este novo formato, visando melhorar a experiência de aprendizagem e os resultados acadêmicos.\n",
    "\n",
    "O estudo utiliza diferentes algoritmos de aprendizado de máquina, como Decision Trees, Random Forest, e Support Vector Machines, para prever a adaptabilidade com base em características comportamentais e demográficas dos estudantes. Além disso, o artigo analisa a precisão desses modelos e identifica os fatores mais relevantes que influenciam a adaptabilidade.\n",
    "\n",
    "Os resultados mostram que as técnicas de aprendizado de máquina podem oferecer previsões confiáveis, ajudando instituições educacionais a identificar estudantes que podem precisar de suporte adicional. Dessa forma, contribui-se para o desenvolvimento de estratégias personalizadas de ensino que promovem uma experiência de aprendizagem mais inclusiva e eficaz."
   ]
  },
  {
   "cell_type": "markdown",
   "metadata": {},
   "source": [
    "## Importação de bibliotecas e pacotes"
   ]
  },
  {
   "cell_type": "code",
   "execution_count": 1,
   "metadata": {},
   "outputs": [],
   "source": [
    "# Importando os pacotes necessários\n",
    "import pandas as pd\n",
    "import numpy as np\n",
    "import matplotlib.pyplot as plt\n",
    "import prince\n",
    "import plotly.express as px\n",
    "import plotly.io as pio\n",
    "pio.renderers.default = 'browser'\n",
    "\n",
    "from scipy.stats import chi2_contingency"
   ]
  },
  {
   "cell_type": "markdown",
   "metadata": {},
   "source": [
    "## Leitura dos dados"
   ]
  },
  {
   "cell_type": "code",
   "execution_count": 2,
   "metadata": {},
   "outputs": [],
   "source": [
    "# Importando o banco de dados\n",
    "dados_estudantes = pd.read_csv(\"estudantes_adapta.csv\")"
   ]
  },
  {
   "cell_type": "markdown",
   "metadata": {},
   "source": [
    "**Fonte:** adaptado de https://www.kaggle.com/datasets/mdmahmudulhasansuzan/students-adaptability-level-in-online-education\n",
    "\n",
    "**Obs.:**  O arquivo original apresenta mais colunas (14 no total). Porém, iremos utilizar apenas algumas para podermos aplicar uma Análise de Correspondência Múltipla de forma simples."
   ]
  },
  {
   "cell_type": "markdown",
   "metadata": {},
   "source": [
    "## Análise descritiva"
   ]
  },
  {
   "cell_type": "markdown",
   "metadata": {},
   "source": [
    "Nessa etapa, iremos estudar os dados através de resumos, a fim de observamos padrões e tendências."
   ]
  },
  {
   "cell_type": "code",
   "execution_count": 3,
   "metadata": {},
   "outputs": [
    {
     "data": {
      "text/html": [
       "<div>\n",
       "<style scoped>\n",
       "    .dataframe tbody tr th:only-of-type {\n",
       "        vertical-align: middle;\n",
       "    }\n",
       "\n",
       "    .dataframe tbody tr th {\n",
       "        vertical-align: top;\n",
       "    }\n",
       "\n",
       "    .dataframe thead th {\n",
       "        text-align: right;\n",
       "    }\n",
       "</style>\n",
       "<table border=\"1\" class=\"dataframe\">\n",
       "  <thead>\n",
       "    <tr style=\"text-align: right;\">\n",
       "      <th></th>\n",
       "      <th>Education</th>\n",
       "      <th>Institution</th>\n",
       "      <th>Financial</th>\n",
       "      <th>Internet</th>\n",
       "      <th>Adaptivity</th>\n",
       "    </tr>\n",
       "  </thead>\n",
       "  <tbody>\n",
       "    <tr>\n",
       "      <th>0</th>\n",
       "      <td>University</td>\n",
       "      <td>Non Government</td>\n",
       "      <td>Mid</td>\n",
       "      <td>Wifi</td>\n",
       "      <td>Moderate</td>\n",
       "    </tr>\n",
       "    <tr>\n",
       "      <th>1</th>\n",
       "      <td>University</td>\n",
       "      <td>Non Government</td>\n",
       "      <td>Mid</td>\n",
       "      <td>Mobile Data</td>\n",
       "      <td>Moderate</td>\n",
       "    </tr>\n",
       "    <tr>\n",
       "      <th>2</th>\n",
       "      <td>College</td>\n",
       "      <td>Government</td>\n",
       "      <td>Mid</td>\n",
       "      <td>Wifi</td>\n",
       "      <td>Moderate</td>\n",
       "    </tr>\n",
       "    <tr>\n",
       "      <th>3</th>\n",
       "      <td>School</td>\n",
       "      <td>Non Government</td>\n",
       "      <td>Mid</td>\n",
       "      <td>Mobile Data</td>\n",
       "      <td>Moderate</td>\n",
       "    </tr>\n",
       "    <tr>\n",
       "      <th>4</th>\n",
       "      <td>School</td>\n",
       "      <td>Non Government</td>\n",
       "      <td>Poor</td>\n",
       "      <td>Mobile Data</td>\n",
       "      <td>Low</td>\n",
       "    </tr>\n",
       "    <tr>\n",
       "      <th>5</th>\n",
       "      <td>School</td>\n",
       "      <td>Non Government</td>\n",
       "      <td>Poor</td>\n",
       "      <td>Mobile Data</td>\n",
       "      <td>Low</td>\n",
       "    </tr>\n",
       "    <tr>\n",
       "      <th>6</th>\n",
       "      <td>School</td>\n",
       "      <td>Non Government</td>\n",
       "      <td>Mid</td>\n",
       "      <td>Wifi</td>\n",
       "      <td>Low</td>\n",
       "    </tr>\n",
       "    <tr>\n",
       "      <th>7</th>\n",
       "      <td>School</td>\n",
       "      <td>Non Government</td>\n",
       "      <td>Mid</td>\n",
       "      <td>Wifi</td>\n",
       "      <td>Moderate</td>\n",
       "    </tr>\n",
       "    <tr>\n",
       "      <th>8</th>\n",
       "      <td>College</td>\n",
       "      <td>Government</td>\n",
       "      <td>Mid</td>\n",
       "      <td>Wifi</td>\n",
       "      <td>Low</td>\n",
       "    </tr>\n",
       "    <tr>\n",
       "      <th>9</th>\n",
       "      <td>School</td>\n",
       "      <td>Non Government</td>\n",
       "      <td>Mid</td>\n",
       "      <td>Mobile Data</td>\n",
       "      <td>Moderate</td>\n",
       "    </tr>\n",
       "  </tbody>\n",
       "</table>\n",
       "</div>"
      ],
      "text/plain": [
       "    Education     Institution Financial     Internet Adaptivity\n",
       "0  University  Non Government       Mid         Wifi   Moderate\n",
       "1  University  Non Government       Mid  Mobile Data   Moderate\n",
       "2     College      Government       Mid         Wifi   Moderate\n",
       "3      School  Non Government       Mid  Mobile Data   Moderate\n",
       "4      School  Non Government      Poor  Mobile Data        Low\n",
       "5      School  Non Government      Poor  Mobile Data        Low\n",
       "6      School  Non Government       Mid         Wifi        Low\n",
       "7      School  Non Government       Mid         Wifi   Moderate\n",
       "8     College      Government       Mid         Wifi        Low\n",
       "9      School  Non Government       Mid  Mobile Data   Moderate"
      ]
     },
     "execution_count": 3,
     "metadata": {},
     "output_type": "execute_result"
    }
   ],
   "source": [
    "# Visualização das 10 primeiras linhas \n",
    "dados_estudantes.head(10)"
   ]
  },
  {
   "cell_type": "code",
   "execution_count": 4,
   "metadata": {},
   "outputs": [
    {
     "data": {
      "text/plain": [
       "(1205, 5)"
      ]
     },
     "execution_count": 4,
     "metadata": {},
     "output_type": "execute_result"
    }
   ],
   "source": [
    "# Dimensão dos dados\n",
    "dados_estudantes.shape"
   ]
  },
  {
   "cell_type": "code",
   "execution_count": 5,
   "metadata": {},
   "outputs": [
    {
     "data": {
      "text/plain": [
       "Education      object\n",
       "Institution    object\n",
       "Financial      object\n",
       "Internet       object\n",
       "Adaptivity     object\n",
       "dtype: object"
      ]
     },
     "execution_count": 5,
     "metadata": {},
     "output_type": "execute_result"
    }
   ],
   "source": [
    "# Tipos de cada variável\n",
    "dados_estudantes.dtypes"
   ]
  },
  {
   "cell_type": "markdown",
   "metadata": {},
   "source": [
    "Podemos observar que temos 1205 observações e 5 variáveis, sendo todas elas categóricas."
   ]
  },
  {
   "cell_type": "code",
   "execution_count": 6,
   "metadata": {},
   "outputs": [
    {
     "data": {
      "text/plain": [
       "Education      0\n",
       "Institution    0\n",
       "Financial      0\n",
       "Internet       0\n",
       "Adaptivity     0\n",
       "dtype: int64"
      ]
     },
     "execution_count": 6,
     "metadata": {},
     "output_type": "execute_result"
    }
   ],
   "source": [
    "# Verificando a presença de nulos\n",
    "dados_estudantes.isnull().sum()"
   ]
  },
  {
   "cell_type": "markdown",
   "metadata": {},
   "source": [
    "Nenhuma coluna apresenta valores nulos, ou seja, temos um conjunto de dados totalmente preenchido, não precisando de nenhum tratamento.\n",
    "\n",
    "Agora, iremos analisar cada variável a fim de verificar quantas categorias cada uma possui e a quantidade de cada uma delas."
   ]
  },
  {
   "cell_type": "code",
   "execution_count": 7,
   "metadata": {},
   "outputs": [
    {
     "data": {
      "text/plain": [
       "Education\n",
       "School        530\n",
       "University    456\n",
       "College       219\n",
       "Name: count, dtype: int64"
      ]
     },
     "execution_count": 7,
     "metadata": {},
     "output_type": "execute_result"
    }
   ],
   "source": [
    "# Nível educacional dos estudantes  \n",
    "dados_estudantes['Education'].value_counts()"
   ]
  },
  {
   "cell_type": "markdown",
   "metadata": {},
   "source": [
    "Temos 3 tipos de classificação em relação ao nível educacional dos estudantes: escolar, faculdade e universidade. A maioria pertence à fase escolar."
   ]
  },
  {
   "cell_type": "code",
   "execution_count": 8,
   "metadata": {},
   "outputs": [
    {
     "data": {
      "text/plain": [
       "Institution\n",
       "Non Government    823\n",
       "Government        382\n",
       "Name: count, dtype: int64"
      ]
     },
     "execution_count": 8,
     "metadata": {},
     "output_type": "execute_result"
    }
   ],
   "source": [
    "# Tipo de cada instituição\n",
    "dados_estudantes['Institution'].value_counts()"
   ]
  },
  {
   "cell_type": "markdown",
   "metadata": {},
   "source": [
    "Temos 2 tipos de instituição: governamental e não governamental, com a maioria pertencente à não governamental."
   ]
  },
  {
   "cell_type": "code",
   "execution_count": 9,
   "metadata": {},
   "outputs": [
    {
     "data": {
      "text/plain": [
       "Financial\n",
       "Mid     878\n",
       "Poor    242\n",
       "Rich     85\n",
       "Name: count, dtype: int64"
      ]
     },
     "execution_count": 9,
     "metadata": {},
     "output_type": "execute_result"
    }
   ],
   "source": [
    "# Nível financeiro da família do estudante\n",
    "dados_estudantes['Financial'].value_counts()"
   ]
  },
  {
   "cell_type": "markdown",
   "metadata": {},
   "source": [
    "Nessa variável, o nível financeiro é dividido em três categorias: pobre, médio e rico, com a maioria dos estudantes classificados como médios e, a minoria, como ricos."
   ]
  },
  {
   "cell_type": "code",
   "execution_count": 10,
   "metadata": {},
   "outputs": [
    {
     "data": {
      "text/plain": [
       "Internet\n",
       "Mobile Data    695\n",
       "Wifi           510\n",
       "Name: count, dtype: int64"
      ]
     },
     "execution_count": 10,
     "metadata": {},
     "output_type": "execute_result"
    }
   ],
   "source": [
    "# Tipo de internet\n",
    "dados_estudantes['Internet'].value_counts()"
   ]
  },
  {
   "cell_type": "markdown",
   "metadata": {},
   "source": [
    "A internet foi dividida em móvel (maioria) e Wifi."
   ]
  },
  {
   "cell_type": "code",
   "execution_count": 11,
   "metadata": {},
   "outputs": [
    {
     "data": {
      "text/plain": [
       "Adaptivity\n",
       "Moderate    625\n",
       "Low         480\n",
       "High        100\n",
       "Name: count, dtype: int64"
      ]
     },
     "execution_count": 11,
     "metadata": {},
     "output_type": "execute_result"
    }
   ],
   "source": [
    "# Adaptação dos estudantes ao modo online\n",
    "dados_estudantes['Adaptivity'].value_counts()"
   ]
  },
  {
   "cell_type": "markdown",
   "metadata": {},
   "source": [
    "A adaptação dos estudantes ao ensino online foi dividida em 3 categorias, sendo elas: baixa, moderada e alta. Nessa primeira análise, mostrou-se que a maioria dos estudantes se encaixam em um nível moderado, com poucos sendo classificados no nível alto."
   ]
  },
  {
   "cell_type": "markdown",
   "metadata": {},
   "source": [
    "## Análise diagnóstica"
   ]
  },
  {
   "cell_type": "markdown",
   "metadata": {},
   "source": [
    "Nesse tipo de análise, os dados são investigados com o intuito de encontrarmos relações de causa e efeito. O foco está em descobrir razões por trás dos dados.\n",
    "\n",
    "No nosso caso, queremos investigar como essas variáveis se associam. Para isso, nosso ponto de partida, para uma Análise de Correspondência, serão as tabelas de contingência entre pares. \n",
    "\n",
    "Uma tabela de contingência nada mais é do que uma tabela que contém as frequências absolutas observadas para cada par de categorias das variáveis. Trata-se de uma tabela de classificação cruzada.\n",
    "\n",
    "Como as combinações são muitas, iremos gerar essas tabelas em relação apenas à variável \"Adaptativity\", já que é o foco do estudo em questão. O objetivo é gerar essas tabelas para que possam ser usadas na função qui-quadrado que compõe o teste qui-quadrado.\n",
    "\n",
    "O teste qui-quadrado avalia se há associação estatisticamente significativa entre as variáveis. Logo, as hipóteses são:\n",
    "\n",
    " * $H_0$ : as variáveis se associam de forma aleatória (não há associação significativa).\n",
    "\n",
    " * $H_1$ : há associação significativa entre as variáveis (forma não aleatória).\n",
    "\n",
    "Os graus de liberdade são dados pela seguinte fórmula:\n",
    "\n",
    "<div align=\"center\">\n",
    "(I - 1) * (J - 1),\n",
    "</div>\n",
    "\n",
    "em que I é a quantidade de categorias em linha e J, a quantidade de categorias em coluna.\n",
    "\n",
    "Para validação, definimos um nível de significância de 5%."
   ]
  },
  {
   "cell_type": "code",
   "execution_count": 12,
   "metadata": {},
   "outputs": [
    {
     "data": {
      "text/html": [
       "<div>\n",
       "<style scoped>\n",
       "    .dataframe tbody tr th:only-of-type {\n",
       "        vertical-align: middle;\n",
       "    }\n",
       "\n",
       "    .dataframe tbody tr th {\n",
       "        vertical-align: top;\n",
       "    }\n",
       "\n",
       "    .dataframe thead th {\n",
       "        text-align: right;\n",
       "    }\n",
       "</style>\n",
       "<table border=\"1\" class=\"dataframe\">\n",
       "  <thead>\n",
       "    <tr style=\"text-align: right;\">\n",
       "      <th>Education</th>\n",
       "      <th>College</th>\n",
       "      <th>School</th>\n",
       "      <th>University</th>\n",
       "    </tr>\n",
       "    <tr>\n",
       "      <th>Adaptivity</th>\n",
       "      <th></th>\n",
       "      <th></th>\n",
       "      <th></th>\n",
       "    </tr>\n",
       "  </thead>\n",
       "  <tbody>\n",
       "    <tr>\n",
       "      <th>High</th>\n",
       "      <td>3</td>\n",
       "      <td>47</td>\n",
       "      <td>50</td>\n",
       "    </tr>\n",
       "    <tr>\n",
       "      <th>Low</th>\n",
       "      <td>120</td>\n",
       "      <td>182</td>\n",
       "      <td>178</td>\n",
       "    </tr>\n",
       "    <tr>\n",
       "      <th>Moderate</th>\n",
       "      <td>96</td>\n",
       "      <td>301</td>\n",
       "      <td>228</td>\n",
       "    </tr>\n",
       "  </tbody>\n",
       "</table>\n",
       "</div>"
      ],
      "text/plain": [
       "Education   College  School  University\n",
       "Adaptivity                             \n",
       "High              3      47          50\n",
       "Low             120     182         178\n",
       "Moderate         96     301         228"
      ]
     },
     "execution_count": 12,
     "metadata": {},
     "output_type": "execute_result"
    }
   ],
   "source": [
    "# Adaptação X Educação\n",
    "tab_cont_edu = pd.crosstab(dados_estudantes[\"Adaptivity\"], dados_estudantes[\"Education\"])\n",
    "tab_cont_edu"
   ]
  },
  {
   "cell_type": "code",
   "execution_count": 13,
   "metadata": {},
   "outputs": [
    {
     "data": {
      "text/html": [
       "<div>\n",
       "<style scoped>\n",
       "    .dataframe tbody tr th:only-of-type {\n",
       "        vertical-align: middle;\n",
       "    }\n",
       "\n",
       "    .dataframe tbody tr th {\n",
       "        vertical-align: top;\n",
       "    }\n",
       "\n",
       "    .dataframe thead th {\n",
       "        text-align: right;\n",
       "    }\n",
       "</style>\n",
       "<table border=\"1\" class=\"dataframe\">\n",
       "  <thead>\n",
       "    <tr style=\"text-align: right;\">\n",
       "      <th>Institution</th>\n",
       "      <th>Government</th>\n",
       "      <th>Non Government</th>\n",
       "    </tr>\n",
       "    <tr>\n",
       "      <th>Adaptivity</th>\n",
       "      <th></th>\n",
       "      <th></th>\n",
       "    </tr>\n",
       "  </thead>\n",
       "  <tbody>\n",
       "    <tr>\n",
       "      <th>High</th>\n",
       "      <td>20</td>\n",
       "      <td>80</td>\n",
       "    </tr>\n",
       "    <tr>\n",
       "      <th>Low</th>\n",
       "      <td>234</td>\n",
       "      <td>246</td>\n",
       "    </tr>\n",
       "    <tr>\n",
       "      <th>Moderate</th>\n",
       "      <td>128</td>\n",
       "      <td>497</td>\n",
       "    </tr>\n",
       "  </tbody>\n",
       "</table>\n",
       "</div>"
      ],
      "text/plain": [
       "Institution  Government  Non Government\n",
       "Adaptivity                             \n",
       "High                 20              80\n",
       "Low                 234             246\n",
       "Moderate            128             497"
      ]
     },
     "execution_count": 13,
     "metadata": {},
     "output_type": "execute_result"
    }
   ],
   "source": [
    "# Adaptação X Instituição\n",
    "tab_cont_inst = pd.crosstab(dados_estudantes[\"Adaptivity\"], dados_estudantes[\"Institution\"])\n",
    "tab_cont_inst"
   ]
  },
  {
   "cell_type": "code",
   "execution_count": 14,
   "metadata": {},
   "outputs": [
    {
     "data": {
      "text/html": [
       "<div>\n",
       "<style scoped>\n",
       "    .dataframe tbody tr th:only-of-type {\n",
       "        vertical-align: middle;\n",
       "    }\n",
       "\n",
       "    .dataframe tbody tr th {\n",
       "        vertical-align: top;\n",
       "    }\n",
       "\n",
       "    .dataframe thead th {\n",
       "        text-align: right;\n",
       "    }\n",
       "</style>\n",
       "<table border=\"1\" class=\"dataframe\">\n",
       "  <thead>\n",
       "    <tr style=\"text-align: right;\">\n",
       "      <th>Financial</th>\n",
       "      <th>Mid</th>\n",
       "      <th>Poor</th>\n",
       "      <th>Rich</th>\n",
       "    </tr>\n",
       "    <tr>\n",
       "      <th>Adaptivity</th>\n",
       "      <th></th>\n",
       "      <th></th>\n",
       "      <th></th>\n",
       "    </tr>\n",
       "  </thead>\n",
       "  <tbody>\n",
       "    <tr>\n",
       "      <th>High</th>\n",
       "      <td>36</td>\n",
       "      <td>22</td>\n",
       "      <td>42</td>\n",
       "    </tr>\n",
       "    <tr>\n",
       "      <th>Low</th>\n",
       "      <td>341</td>\n",
       "      <td>129</td>\n",
       "      <td>10</td>\n",
       "    </tr>\n",
       "    <tr>\n",
       "      <th>Moderate</th>\n",
       "      <td>501</td>\n",
       "      <td>91</td>\n",
       "      <td>33</td>\n",
       "    </tr>\n",
       "  </tbody>\n",
       "</table>\n",
       "</div>"
      ],
      "text/plain": [
       "Financial   Mid  Poor  Rich\n",
       "Adaptivity                 \n",
       "High         36    22    42\n",
       "Low         341   129    10\n",
       "Moderate    501    91    33"
      ]
     },
     "execution_count": 14,
     "metadata": {},
     "output_type": "execute_result"
    }
   ],
   "source": [
    "# Adaptação X Nível Financeiro\n",
    "tab_cont_fin = pd.crosstab(dados_estudantes[\"Adaptivity\"], dados_estudantes[\"Financial\"])\n",
    "tab_cont_fin"
   ]
  },
  {
   "cell_type": "code",
   "execution_count": 15,
   "metadata": {},
   "outputs": [
    {
     "data": {
      "text/html": [
       "<div>\n",
       "<style scoped>\n",
       "    .dataframe tbody tr th:only-of-type {\n",
       "        vertical-align: middle;\n",
       "    }\n",
       "\n",
       "    .dataframe tbody tr th {\n",
       "        vertical-align: top;\n",
       "    }\n",
       "\n",
       "    .dataframe thead th {\n",
       "        text-align: right;\n",
       "    }\n",
       "</style>\n",
       "<table border=\"1\" class=\"dataframe\">\n",
       "  <thead>\n",
       "    <tr style=\"text-align: right;\">\n",
       "      <th>Internet</th>\n",
       "      <th>Mobile Data</th>\n",
       "      <th>Wifi</th>\n",
       "    </tr>\n",
       "    <tr>\n",
       "      <th>Adaptivity</th>\n",
       "      <th></th>\n",
       "      <th></th>\n",
       "    </tr>\n",
       "  </thead>\n",
       "  <tbody>\n",
       "    <tr>\n",
       "      <th>High</th>\n",
       "      <td>36</td>\n",
       "      <td>64</td>\n",
       "    </tr>\n",
       "    <tr>\n",
       "      <th>Low</th>\n",
       "      <td>288</td>\n",
       "      <td>192</td>\n",
       "    </tr>\n",
       "    <tr>\n",
       "      <th>Moderate</th>\n",
       "      <td>371</td>\n",
       "      <td>254</td>\n",
       "    </tr>\n",
       "  </tbody>\n",
       "</table>\n",
       "</div>"
      ],
      "text/plain": [
       "Internet    Mobile Data  Wifi\n",
       "Adaptivity                   \n",
       "High                 36    64\n",
       "Low                 288   192\n",
       "Moderate            371   254"
      ]
     },
     "execution_count": 15,
     "metadata": {},
     "output_type": "execute_result"
    }
   ],
   "source": [
    "# Adaptação X Internet\n",
    "tab_cont_inter = pd.crosstab(dados_estudantes[\"Adaptivity\"], dados_estudantes[\"Internet\"])\n",
    "tab_cont_inter"
   ]
  },
  {
   "cell_type": "code",
   "execution_count": 16,
   "metadata": {},
   "outputs": [
    {
     "name": "stdout",
     "output_type": "stream",
     "text": [
      "Adaptivity x Education\n",
      "\n",
      "Estatística qui²: 38.69\n",
      "Graus de liberdade: 4\n",
      "p-valor da estatística: 0.0\n"
     ]
    }
   ],
   "source": [
    "# Aplicando o teste qui-quadrado para Adaptação X Educação\n",
    "teste_qui2_edu = chi2_contingency(tab_cont_edu)\n",
    "\n",
    "print(\"Adaptivity x Education\")\n",
    "print(\"\")\n",
    "print(f\"Estatística qui²: {round(teste_qui2_edu[0], 2)}\")\n",
    "print(f\"Graus de liberdade: {teste_qui2_edu[2]}\")\n",
    "print(f\"p-valor da estatística: {round(teste_qui2_edu[1], 4)}\")"
   ]
  },
  {
   "cell_type": "code",
   "execution_count": 17,
   "metadata": {},
   "outputs": [
    {
     "name": "stdout",
     "output_type": "stream",
     "text": [
      "Adaptivity x Institution\n",
      "\n",
      "Estatística qui²: 107.11\n",
      "Graus de liberdade: 2\n",
      "p-valor da estatística: 0.0\n"
     ]
    }
   ],
   "source": [
    "# Aplicando o teste qui-quadrado para Adaptação X Instituição\n",
    "teste_qui2_inst = chi2_contingency(tab_cont_inst)\n",
    "\n",
    "print(\"Adaptivity x Institution\")\n",
    "print(\"\")\n",
    "print(f\"Estatística qui²: {round(teste_qui2_inst[0], 2)}\")\n",
    "print(f\"Graus de liberdade: {teste_qui2_inst[2]}\")\n",
    "print(f\"p-valor da estatística: {round(teste_qui2_inst[1], 4)}\")"
   ]
  },
  {
   "cell_type": "code",
   "execution_count": 18,
   "metadata": {},
   "outputs": [
    {
     "name": "stdout",
     "output_type": "stream",
     "text": [
      "Adaptivity x Financial\n",
      "\n",
      "Estatística qui²: 236.86\n",
      "Graus de liberdade: 4\n",
      "p-valor da estatística: 0.0\n"
     ]
    }
   ],
   "source": [
    "# Aplicando o teste qui-quadrado para Adaptação X Nível Financeiro\n",
    "teste_qui2_fin = chi2_contingency(tab_cont_fin)\n",
    "\n",
    "print(\"Adaptivity x Financial\")\n",
    "print(\"\")\n",
    "print(f\"Estatística qui²: {round(teste_qui2_fin[0], 2)}\")\n",
    "print(f\"Graus de liberdade: {teste_qui2_fin[2]}\")\n",
    "print(f\"p-valor da estatística: {round(teste_qui2_fin[1], 4)}\")"
   ]
  },
  {
   "cell_type": "code",
   "execution_count": 19,
   "metadata": {},
   "outputs": [
    {
     "name": "stdout",
     "output_type": "stream",
     "text": [
      "Adaptivity x Financial\n",
      "\n",
      "Estatística qui²: 21.04\n",
      "Graus de liberdade: 2\n",
      "p-valor da estatística: 0.0\n"
     ]
    }
   ],
   "source": [
    "# Aplicando o teste qui-quadrado para Adaptação X Internet\n",
    "teste_qui2_inter = chi2_contingency(tab_cont_inter)\n",
    "\n",
    "print(\"Adaptivity x Financial\")\n",
    "print(\"\")\n",
    "print(f\"Estatística qui²: {round(teste_qui2_inter[0], 2)}\")\n",
    "print(f\"Graus de liberdade: {teste_qui2_inter[2]}\")\n",
    "print(f\"p-valor da estatística: {round(teste_qui2_inter[1], 4)}\")"
   ]
  },
  {
   "cell_type": "markdown",
   "metadata": {},
   "source": [
    "Em todos os testes realizados entre os pares de variáveis, observamos que o p-valor é menor do que o nível de significância de 5% (0.0 < 0.05). Portanto, rejeitamos a hipótese nula e concluímos que as associações são estatisticamente significativas. Dessa maneira, podemos incluir todas as variáveis na Análise de Correspondência Múltipla."
   ]
  },
  {
   "cell_type": "markdown",
   "metadata": {},
   "source": [
    "## Análise de Correspondência Múltipla"
   ]
  },
  {
   "cell_type": "markdown",
   "metadata": {},
   "source": [
    "Iremos parametrizar a MCA para três dimensões, já que o nosso objetivo é criar um mapa perceptual 3D. Esse mapa é um gráfico de pontos, no qual cada ponto será uma categoria das variáveis."
   ]
  },
  {
   "cell_type": "code",
   "execution_count": 20,
   "metadata": {},
   "outputs": [],
   "source": [
    "# Elaborando a MCA para 3 dimensões (n_components=3) com o banco de dados \n",
    "mca_estudantes = prince.MCA(n_components=3).fit(dados_estudantes)"
   ]
  },
  {
   "cell_type": "code",
   "execution_count": 21,
   "metadata": {},
   "outputs": [
    {
     "name": "stdout",
     "output_type": "stream",
     "text": [
      "Quantidade total de categorias: 13\n",
      "Quantidade de variáveis: 5\n",
      "Quantidade de dimensões: 8\n"
     ]
    }
   ],
   "source": [
    "# Resumo das informações da MCA\n",
    "quant_dim = mca_estudantes.J_ - mca_estudantes.K_\n",
    "\n",
    "print(f\"Quantidade total de categorias: {mca_estudantes.J_}\")\n",
    "print(f\"Quantidade de variáveis: {mca_estudantes.K_}\")\n",
    "print(f\"Quantidade de dimensões: {quant_dim}\")"
   ]
  },
  {
   "cell_type": "markdown",
   "metadata": {},
   "source": [
    "Como podemos notar, a quantidade de dimensões para esse conjunto de dados são oito. Contudo, nós somos capazes de visualizar em até três dimensões.\n",
    "\n",
    "Para construirmos o mapa perceptual, precisamos calcular os autovalores, no qual cada autovalor refere-se a uma dimensão no mapa. "
   ]
  },
  {
   "cell_type": "code",
   "execution_count": 22,
   "metadata": {},
   "outputs": [
    {
     "data": {
      "text/html": [
       "<div>\n",
       "<style scoped>\n",
       "    .dataframe tbody tr th:only-of-type {\n",
       "        vertical-align: middle;\n",
       "    }\n",
       "\n",
       "    .dataframe tbody tr th {\n",
       "        vertical-align: top;\n",
       "    }\n",
       "\n",
       "    .dataframe thead th {\n",
       "        text-align: right;\n",
       "    }\n",
       "</style>\n",
       "<table border=\"1\" class=\"dataframe\">\n",
       "  <thead>\n",
       "    <tr style=\"text-align: right;\">\n",
       "      <th></th>\n",
       "      <th>eigenvalue</th>\n",
       "      <th>% of variance</th>\n",
       "      <th>% of variance (cumulative)</th>\n",
       "    </tr>\n",
       "    <tr>\n",
       "      <th>component</th>\n",
       "      <th></th>\n",
       "      <th></th>\n",
       "      <th></th>\n",
       "    </tr>\n",
       "  </thead>\n",
       "  <tbody>\n",
       "    <tr>\n",
       "      <th>0</th>\n",
       "      <td>0.321</td>\n",
       "      <td>20.06%</td>\n",
       "      <td>20.06%</td>\n",
       "    </tr>\n",
       "    <tr>\n",
       "      <th>1</th>\n",
       "      <td>0.308</td>\n",
       "      <td>19.24%</td>\n",
       "      <td>39.30%</td>\n",
       "    </tr>\n",
       "    <tr>\n",
       "      <th>2</th>\n",
       "      <td>0.258</td>\n",
       "      <td>16.10%</td>\n",
       "      <td>55.40%</td>\n",
       "    </tr>\n",
       "  </tbody>\n",
       "</table>\n",
       "</div>"
      ],
      "text/plain": [
       "          eigenvalue % of variance % of variance (cumulative)\n",
       "component                                                    \n",
       "0              0.321        20.06%                     20.06%\n",
       "1              0.308        19.24%                     39.30%\n",
       "2              0.258        16.10%                     55.40%"
      ]
     },
     "execution_count": 22,
     "metadata": {},
     "output_type": "execute_result"
    }
   ],
   "source": [
    "# Obtendo os autovalores (eigenvalues)\n",
    "tab_autovalores = mca_estudantes.eigenvalues_summary\n",
    "tab_autovalores"
   ]
  },
  {
   "cell_type": "markdown",
   "metadata": {},
   "source": [
    "Quando obtemos os autovalores, eles sempre aparecem do maior para o menor valor. No caso, considera-se três dimensões, as quais correspondem à 55.4% da variância (inércia) dos dados. Lembrando que o zero é o eixo \"x\", o um, o eixo \"y\" e o dois, o eixo \"z\".\n",
    "\n",
    "Com base nos autovalores obtidos, encontra-se o percentual de inércia principal total de cada dimensão, que é a soma de todos os autovalores (todas as dimensões existentes)."
   ]
  },
  {
   "cell_type": "code",
   "execution_count": 23,
   "metadata": {},
   "outputs": [
    {
     "data": {
      "text/plain": [
       "1.5999999999999586"
      ]
     },
     "execution_count": 23,
     "metadata": {},
     "output_type": "execute_result"
    }
   ],
   "source": [
    "# Calculando a inércia principal total\n",
    "inercia_principal_total = mca_estudantes.total_inertia_\n",
    "inercia_principal_total"
   ]
  },
  {
   "cell_type": "markdown",
   "metadata": {},
   "source": [
    "Se fossem somados todos os autovalores, a inércia seria 1.599. \n",
    "\n",
    "Quando plotamos um mapa perceptual de uma Análise de Correspondência Múltipla (no caso, três dimensões), é recomendado que utilizemos somente dimensões que tenham um autovalor maior do que a inércia total média, ou seja, a média da inércia principal total por dimensão."
   ]
  },
  {
   "cell_type": "code",
   "execution_count": 24,
   "metadata": {},
   "outputs": [
    {
     "data": {
      "text/plain": [
       "0.19999999999999482"
      ]
     },
     "execution_count": 24,
     "metadata": {},
     "output_type": "execute_result"
    }
   ],
   "source": [
    "# Média da inércia principal total por dimensão\n",
    "inercia_total_media = mca_estudantes.total_inertia_/quant_dim\n",
    "inercia_total_media"
   ]
  },
  {
   "cell_type": "markdown",
   "metadata": {},
   "source": [
    "Neste caso, as três dimensões extraídas possuem autovalores maiores do que 0.199. Se acontecesse de tivermos, por exemplo, no eixo \"z\" um valor menor do que 0.199, significa que essa dimensão tem pouca informação para ser adicionada na análise. Logo, retiraríamos esse eixo do nosso estudo, já que não ajudaria na análise de proximidade do mapa.\n",
    "\n",
    "A seguir, calculamos as coordenadas das categorias das variáveis e das observações. Aqui, podemos utilizar a Matriz de Burt, que são todas as categorias em linha e todas as categorias em coluna. Assim, essa matriz mostra a quantidade de cada par de categorias. Essa matriz gera as coordenadas principais com base na multiplicação entre a matriz biária Z transposta e a matriz binária Z:\n",
    "\n",
    "<div align=\"center\">\n",
    "B = Z' * Z,\n",
    "</div>\n",
    "\n",
    "no qual a matriz binária é obtida pela transformação das variáveis qualitativas em variáveis binárias, isto é, em valores 0 ou 1 (\"dummies\").\n",
    "\n",
    "Dessa forma, combinamos em uma única matriz o cruzamento de todos os pares de variáveis e suas categorias, obtendo uma matriz que contém as frequências absolutas observadas para todos os cruzamentos.\n",
    "\n",
    "Ao considerar a Matriz de Burt como uma tabela de contingência, é possível realizar uma Análise de Correspondência e obter as coordenadas das categorias das variáveis."
   ]
  },
  {
   "cell_type": "code",
   "execution_count": 25,
   "metadata": {},
   "outputs": [
    {
     "data": {
      "text/html": [
       "<div>\n",
       "<style scoped>\n",
       "    .dataframe tbody tr th:only-of-type {\n",
       "        vertical-align: middle;\n",
       "    }\n",
       "\n",
       "    .dataframe tbody tr th {\n",
       "        vertical-align: top;\n",
       "    }\n",
       "\n",
       "    .dataframe thead th {\n",
       "        text-align: right;\n",
       "    }\n",
       "</style>\n",
       "<table border=\"1\" class=\"dataframe\">\n",
       "  <thead>\n",
       "    <tr style=\"text-align: right;\">\n",
       "      <th></th>\n",
       "      <th>0</th>\n",
       "      <th>1</th>\n",
       "      <th>2</th>\n",
       "    </tr>\n",
       "  </thead>\n",
       "  <tbody>\n",
       "    <tr>\n",
       "      <th>Education_College</th>\n",
       "      <td>-1.266116</td>\n",
       "      <td>0.559165</td>\n",
       "      <td>-0.011469</td>\n",
       "    </tr>\n",
       "    <tr>\n",
       "      <th>Education_School</th>\n",
       "      <td>0.476726</td>\n",
       "      <td>-0.675321</td>\n",
       "      <td>0.099547</td>\n",
       "    </tr>\n",
       "    <tr>\n",
       "      <th>Education_University</th>\n",
       "      <td>0.053979</td>\n",
       "      <td>0.516366</td>\n",
       "      <td>-0.110193</td>\n",
       "    </tr>\n",
       "    <tr>\n",
       "      <th>Institution_Government</th>\n",
       "      <td>-0.846907</td>\n",
       "      <td>0.380226</td>\n",
       "      <td>0.692520</td>\n",
       "    </tr>\n",
       "    <tr>\n",
       "      <th>Institution_Non Government</th>\n",
       "      <td>0.393097</td>\n",
       "      <td>-0.176484</td>\n",
       "      <td>-0.321437</td>\n",
       "    </tr>\n",
       "    <tr>\n",
       "      <th>Financial_Mid</th>\n",
       "      <td>-0.262792</td>\n",
       "      <td>0.125889</td>\n",
       "      <td>-0.393927</td>\n",
       "    </tr>\n",
       "    <tr>\n",
       "      <th>Financial_Poor</th>\n",
       "      <td>0.245959</td>\n",
       "      <td>-1.023834</td>\n",
       "      <td>0.979460</td>\n",
       "    </tr>\n",
       "    <tr>\n",
       "      <th>Financial_Rich</th>\n",
       "      <td>2.014228</td>\n",
       "      <td>1.614552</td>\n",
       "      <td>1.280454</td>\n",
       "    </tr>\n",
       "    <tr>\n",
       "      <th>Internet_Mobile Data</th>\n",
       "      <td>-0.057200</td>\n",
       "      <td>-0.631284</td>\n",
       "      <td>0.212550</td>\n",
       "    </tr>\n",
       "    <tr>\n",
       "      <th>Internet_Wifi</th>\n",
       "      <td>0.077949</td>\n",
       "      <td>0.860279</td>\n",
       "      <td>-0.289652</td>\n",
       "    </tr>\n",
       "    <tr>\n",
       "      <th>Adaptivity_High</th>\n",
       "      <td>1.972304</td>\n",
       "      <td>1.324840</td>\n",
       "      <td>1.302384</td>\n",
       "    </tr>\n",
       "    <tr>\n",
       "      <th>Adaptivity_Low</th>\n",
       "      <td>-0.676083</td>\n",
       "      <td>-0.030830</td>\n",
       "      <td>0.654504</td>\n",
       "    </tr>\n",
       "    <tr>\n",
       "      <th>Adaptivity_Moderate</th>\n",
       "      <td>0.203663</td>\n",
       "      <td>-0.188297</td>\n",
       "      <td>-0.711041</td>\n",
       "    </tr>\n",
       "  </tbody>\n",
       "</table>\n",
       "</div>"
      ],
      "text/plain": [
       "                                   0         1         2\n",
       "Education_College          -1.266116  0.559165 -0.011469\n",
       "Education_School            0.476726 -0.675321  0.099547\n",
       "Education_University        0.053979  0.516366 -0.110193\n",
       "Institution_Government     -0.846907  0.380226  0.692520\n",
       "Institution_Non Government  0.393097 -0.176484 -0.321437\n",
       "Financial_Mid              -0.262792  0.125889 -0.393927\n",
       "Financial_Poor              0.245959 -1.023834  0.979460\n",
       "Financial_Rich              2.014228  1.614552  1.280454\n",
       "Internet_Mobile Data       -0.057200 -0.631284  0.212550\n",
       "Internet_Wifi               0.077949  0.860279 -0.289652\n",
       "Adaptivity_High             1.972304  1.324840  1.302384\n",
       "Adaptivity_Low             -0.676083 -0.030830  0.654504\n",
       "Adaptivity_Moderate         0.203663 -0.188297 -0.711041"
      ]
     },
     "execution_count": 25,
     "metadata": {},
     "output_type": "execute_result"
    }
   ],
   "source": [
    "# Obtendo as coordenadas principais das categorias das variáveis\n",
    "# Como default, a função \"column_coordinates\" traz as coordenadas de Burt\n",
    "coord_burt = mca_estudantes.column_coordinates(dados_estudantes)\n",
    "coord_burt"
   ]
  },
  {
   "cell_type": "markdown",
   "metadata": {},
   "source": [
    "Caso queiramos as coordenadas padrão, basta dividirmos \"coord_burt\" pela raíz dos autovalores."
   ]
  },
  {
   "cell_type": "code",
   "execution_count": 26,
   "metadata": {},
   "outputs": [
    {
     "data": {
      "text/html": [
       "<div>\n",
       "<style scoped>\n",
       "    .dataframe tbody tr th:only-of-type {\n",
       "        vertical-align: middle;\n",
       "    }\n",
       "\n",
       "    .dataframe tbody tr th {\n",
       "        vertical-align: top;\n",
       "    }\n",
       "\n",
       "    .dataframe thead th {\n",
       "        text-align: right;\n",
       "    }\n",
       "</style>\n",
       "<table border=\"1\" class=\"dataframe\">\n",
       "  <thead>\n",
       "    <tr style=\"text-align: right;\">\n",
       "      <th></th>\n",
       "      <th>0</th>\n",
       "      <th>1</th>\n",
       "      <th>2</th>\n",
       "    </tr>\n",
       "  </thead>\n",
       "  <tbody>\n",
       "    <tr>\n",
       "      <th>Education_College</th>\n",
       "      <td>-2.234816</td>\n",
       "      <td>1.007914</td>\n",
       "      <td>-0.022596</td>\n",
       "    </tr>\n",
       "    <tr>\n",
       "      <th>Education_School</th>\n",
       "      <td>0.841467</td>\n",
       "      <td>-1.217289</td>\n",
       "      <td>0.196122</td>\n",
       "    </tr>\n",
       "    <tr>\n",
       "      <th>Education_University</th>\n",
       "      <td>0.095278</td>\n",
       "      <td>0.930767</td>\n",
       "      <td>-0.217097</td>\n",
       "    </tr>\n",
       "    <tr>\n",
       "      <th>Institution_Government</th>\n",
       "      <td>-1.494873</td>\n",
       "      <td>0.685371</td>\n",
       "      <td>1.364369</td>\n",
       "    </tr>\n",
       "    <tr>\n",
       "      <th>Institution_Non Government</th>\n",
       "      <td>0.693853</td>\n",
       "      <td>-0.318119</td>\n",
       "      <td>-0.633279</td>\n",
       "    </tr>\n",
       "    <tr>\n",
       "      <th>Financial_Mid</th>\n",
       "      <td>-0.463853</td>\n",
       "      <td>0.226920</td>\n",
       "      <td>-0.776095</td>\n",
       "    </tr>\n",
       "    <tr>\n",
       "      <th>Financial_Poor</th>\n",
       "      <td>0.434140</td>\n",
       "      <td>-1.845496</td>\n",
       "      <td>1.929683</td>\n",
       "    </tr>\n",
       "    <tr>\n",
       "      <th>Financial_Rich</th>\n",
       "      <td>3.555306</td>\n",
       "      <td>2.910286</td>\n",
       "      <td>2.522688</td>\n",
       "    </tr>\n",
       "    <tr>\n",
       "      <th>Internet_Mobile Data</th>\n",
       "      <td>-0.100964</td>\n",
       "      <td>-1.137912</td>\n",
       "      <td>0.418756</td>\n",
       "    </tr>\n",
       "    <tr>\n",
       "      <th>Internet_Wifi</th>\n",
       "      <td>0.137588</td>\n",
       "      <td>1.550684</td>\n",
       "      <td>-0.570658</td>\n",
       "    </tr>\n",
       "    <tr>\n",
       "      <th>Adaptivity_High</th>\n",
       "      <td>3.481307</td>\n",
       "      <td>2.388070</td>\n",
       "      <td>2.565894</td>\n",
       "    </tr>\n",
       "    <tr>\n",
       "      <th>Adaptivity_Low</th>\n",
       "      <td>-1.193351</td>\n",
       "      <td>-0.055573</td>\n",
       "      <td>1.289472</td>\n",
       "    </tr>\n",
       "    <tr>\n",
       "      <th>Adaptivity_Moderate</th>\n",
       "      <td>0.359485</td>\n",
       "      <td>-0.339411</td>\n",
       "      <td>-1.400858</td>\n",
       "    </tr>\n",
       "  </tbody>\n",
       "</table>\n",
       "</div>"
      ],
      "text/plain": [
       "                                   0         1         2\n",
       "Education_College          -2.234816  1.007914 -0.022596\n",
       "Education_School            0.841467 -1.217289  0.196122\n",
       "Education_University        0.095278  0.930767 -0.217097\n",
       "Institution_Government     -1.494873  0.685371  1.364369\n",
       "Institution_Non Government  0.693853 -0.318119 -0.633279\n",
       "Financial_Mid              -0.463853  0.226920 -0.776095\n",
       "Financial_Poor              0.434140 -1.845496  1.929683\n",
       "Financial_Rich              3.555306  2.910286  2.522688\n",
       "Internet_Mobile Data       -0.100964 -1.137912  0.418756\n",
       "Internet_Wifi               0.137588  1.550684 -0.570658\n",
       "Adaptivity_High             3.481307  2.388070  2.565894\n",
       "Adaptivity_Low             -1.193351 -0.055573  1.289472\n",
       "Adaptivity_Moderate         0.359485 -0.339411 -1.400858"
      ]
     },
     "execution_count": 26,
     "metadata": {},
     "output_type": "execute_result"
    }
   ],
   "source": [
    "# Obtendo as coordenadas-padrão das categorias das variáveis\n",
    "coord_padrao = coord_burt/np.sqrt(mca_estudantes.eigenvalues_)\n",
    "coord_padrao"
   ]
  },
  {
   "cell_type": "markdown",
   "metadata": {},
   "source": [
    "Sendo a matriz binária Z responsável por gerar as coordenadas padrão e considerando-a como a tabela de contingência na Análise de Correspondência, é exequível obter a inércia principal das dimensões, autovalores e, portanto, as coordenadas no mapa perceptual dessa matriz."
   ]
  },
  {
   "cell_type": "code",
   "execution_count": 27,
   "metadata": {},
   "outputs": [
    {
     "data": {
      "text/html": [
       "<div>\n",
       "<style scoped>\n",
       "    .dataframe tbody tr th:only-of-type {\n",
       "        vertical-align: middle;\n",
       "    }\n",
       "\n",
       "    .dataframe tbody tr th {\n",
       "        vertical-align: top;\n",
       "    }\n",
       "\n",
       "    .dataframe thead th {\n",
       "        text-align: right;\n",
       "    }\n",
       "</style>\n",
       "<table border=\"1\" class=\"dataframe\">\n",
       "  <thead>\n",
       "    <tr style=\"text-align: right;\">\n",
       "      <th></th>\n",
       "      <th>0</th>\n",
       "      <th>1</th>\n",
       "      <th>2</th>\n",
       "    </tr>\n",
       "  </thead>\n",
       "  <tbody>\n",
       "    <tr>\n",
       "      <th>0</th>\n",
       "      <td>0.164470</td>\n",
       "      <td>0.410168</td>\n",
       "      <td>-0.719597</td>\n",
       "    </tr>\n",
       "    <tr>\n",
       "      <th>1</th>\n",
       "      <td>0.116760</td>\n",
       "      <td>-0.127551</td>\n",
       "      <td>-0.521715</td>\n",
       "    </tr>\n",
       "    <tr>\n",
       "      <th>2</th>\n",
       "      <td>-0.739294</td>\n",
       "      <td>0.626296</td>\n",
       "      <td>-0.281168</td>\n",
       "    </tr>\n",
       "    <tr>\n",
       "      <th>3</th>\n",
       "      <td>0.265998</td>\n",
       "      <td>-0.557162</td>\n",
       "      <td>-0.439071</td>\n",
       "    </tr>\n",
       "    <tr>\n",
       "      <th>4</th>\n",
       "      <td>0.135029</td>\n",
       "      <td>-0.914878</td>\n",
       "      <td>0.640151</td>\n",
       "    </tr>\n",
       "    <tr>\n",
       "      <th>...</th>\n",
       "      <td>...</td>\n",
       "      <td>...</td>\n",
       "      <td>...</td>\n",
       "    </tr>\n",
       "    <tr>\n",
       "      <th>1200</th>\n",
       "      <td>-0.612116</td>\n",
       "      <td>0.482365</td>\n",
       "      <td>-0.142631</td>\n",
       "    </tr>\n",
       "    <tr>\n",
       "      <th>1201</th>\n",
       "      <td>-0.301548</td>\n",
       "      <td>0.425598</td>\n",
       "      <td>-0.680697</td>\n",
       "    </tr>\n",
       "    <tr>\n",
       "      <th>1202</th>\n",
       "      <td>0.265998</td>\n",
       "      <td>-0.557162</td>\n",
       "      <td>-0.439071</td>\n",
       "    </tr>\n",
       "    <tr>\n",
       "      <th>1203</th>\n",
       "      <td>-0.612116</td>\n",
       "      <td>0.482365</td>\n",
       "      <td>-0.142631</td>\n",
       "    </tr>\n",
       "    <tr>\n",
       "      <th>1204</th>\n",
       "      <td>0.445596</td>\n",
       "      <td>-0.971645</td>\n",
       "      <td>0.102085</td>\n",
       "    </tr>\n",
       "  </tbody>\n",
       "</table>\n",
       "<p>1205 rows × 3 columns</p>\n",
       "</div>"
      ],
      "text/plain": [
       "             0         1         2\n",
       "0     0.164470  0.410168 -0.719597\n",
       "1     0.116760 -0.127551 -0.521715\n",
       "2    -0.739294  0.626296 -0.281168\n",
       "3     0.265998 -0.557162 -0.439071\n",
       "4     0.135029 -0.914878  0.640151\n",
       "...        ...       ...       ...\n",
       "1200 -0.612116  0.482365 -0.142631\n",
       "1201 -0.301548  0.425598 -0.680697\n",
       "1202  0.265998 -0.557162 -0.439071\n",
       "1203 -0.612116  0.482365 -0.142631\n",
       "1204  0.445596 -0.971645  0.102085\n",
       "\n",
       "[1205 rows x 3 columns]"
      ]
     },
     "execution_count": 27,
     "metadata": {},
     "output_type": "execute_result"
    }
   ],
   "source": [
    "# Obtendo as coordenadas das observações do banco de dados\n",
    "# Na função \"row_coordinates\", as coordenadas das observações vêm das coordenadas-padrão\n",
    "coord_obs = mca_estudantes.row_coordinates(dados_estudantes)\n",
    "coord_obs"
   ]
  },
  {
   "cell_type": "markdown",
   "metadata": {},
   "source": [
    "Feito isso, conseguimos plotar o mapa perceptual utilizando as coordenadas padrão e, consequentemente, visualizar as categorias que estão mais associadas."
   ]
  },
  {
   "cell_type": "markdown",
   "metadata": {},
   "source": [
    "## Mapa Perceptual"
   ]
  },
  {
   "cell_type": "code",
   "execution_count": 28,
   "metadata": {},
   "outputs": [],
   "source": [
    "# Plotando o mapa perceptual (coordenadas-padrão)\n",
    "\n",
    "# Primeiro passo: gerar um DataFrame detalhado\n",
    "coord = coord_padrao.reset_index() # A primeira coluna será o nome das categorias\n",
    "\n",
    "var_coord = pd.Series(coord['index'].str.split('_', expand=True).iloc[:,0])\n",
    "\n",
    "# Extraindo o nome das categorias (sem as variáveis)\n",
    "nome_categ=[]\n",
    "for col in dados_estudantes:\n",
    "    nome_categ.append(dados_estudantes[col].sort_values(ascending=True).unique())\n",
    "    categorias = pd.DataFrame(nome_categ).stack().reset_index()\n",
    "\n",
    "coord_df_mca = pd.DataFrame({'categoria': coord['index'],\n",
    "                             'obs_x': coord[0],\n",
    "                             'obs_y': coord[1],\n",
    "                             'obs_z': coord[2],\n",
    "                             'variavel': var_coord,\n",
    "                             'categoria_id': categorias[0]})\n",
    "\n",
    "# Segundo passo: gerar o gráfico de pontos\n",
    "fig = px.scatter_3d(coord_df_mca, \n",
    "                    x='obs_x', \n",
    "                    y='obs_y', \n",
    "                    z='obs_z',\n",
    "                    color='variavel',\n",
    "                    text=coord_df_mca.categoria_id)\n",
    "fig.show()"
   ]
  },
  {
   "cell_type": "markdown",
   "metadata": {},
   "source": [
    "## Conclusão"
   ]
  },
  {
   "cell_type": "markdown",
   "metadata": {},
   "source": [
    "Portanto, estudantes que reportaram alta adaptação ao ensino online, possuem um nível financeiro elevado. Também notamos que alunos que possuem baixa adaptabilidade estudam em instituições governamentais. Estudantes que frequentam a universidade estão mais associados ao uso do Wifi e com um nível financeiro mediano. Os alunos que declararam ter uma adaptabilidade mediana ao ensino online, frequentam instituições não governamentais. Já os estudantes de condição financeira baixa, não apresentam associações evidentes com outras categorias."
   ]
  }
 ],
 "metadata": {
  "kernelspec": {
   "display_name": "base",
   "language": "python",
   "name": "python3"
  },
  "language_info": {
   "codemirror_mode": {
    "name": "ipython",
    "version": 3
   },
   "file_extension": ".py",
   "mimetype": "text/x-python",
   "name": "python",
   "nbconvert_exporter": "python",
   "pygments_lexer": "ipython3",
   "version": "3.12.7"
  }
 },
 "nbformat": 4,
 "nbformat_minor": 2
}
